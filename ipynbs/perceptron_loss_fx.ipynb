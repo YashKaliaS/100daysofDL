{
  "nbformat": 4,
  "nbformat_minor": 0,
  "metadata": {
    "colab": {
      "provenance": []
    },
    "kernelspec": {
      "name": "python3",
      "display_name": "Python 3"
    },
    "language_info": {
      "name": "python"
    }
  },
  "cells": [
    {
      "cell_type": "code",
      "execution_count": 1,
      "metadata": {
        "id": "yWZAL7JYkGOc"
      },
      "outputs": [],
      "source": [
        "#today we will cover Perceptron Loss Function | Hinge Loss | Binary Cross Entropy | Sigmoid Function"
      ]
    },
    {
      "cell_type": "code",
      "source": [
        "#Perceptron loss function"
      ],
      "metadata": {
        "id": "wfAtLvVikcNH"
      },
      "execution_count": 2,
      "outputs": []
    },
    {
      "cell_type": "code",
      "source": [
        "# If the prediction is wrong, we update the weights; if it's correct, we do nothing."
      ],
      "metadata": {
        "id": "FWu9t2lEkmkv"
      },
      "execution_count": 3,
      "outputs": []
    },
    {
      "cell_type": "code",
      "source": [
        "# Explaination\n",
        "# y_true is the actual class labels (ground truth).\n",
        "# It takes values from {-1, 1}.\n",
        "# 1 means the data point belongs to Class 1.\n",
        "# -1 means the data point belongs to Class -1.\n",
        "# For example:\n",
        "# [1,-1,1]\n",
        "\n",
        "\n",
        "# What does y_pred represent?\n",
        "# y_pred is the model's prediction for each data point.\n",
        "# These values are the raw outputs of the model, often called logits.\n",
        "# The sign of y_pred determines the predicted class:\n",
        "# If y_pred > 0, the model predicts Class 1.\n",
        "# If y_pred < 0, the model predicts Class -1.\n",
        "# y_pred = np.array([-0.5, 2, 0.3])\n",
        "\n",
        "# The first prediction is -0.5 (predicting Class -1).\n",
        "# The second prediction is 2 (predicting Class 1).\n",
        "# The third prediction is 0.3 (predicting Class 1).\n",
        "\n",
        "\n",
        "\n",
        "\n",
        "# The perceptron loss function is:\n",
        "\n",
        "# It penalizes incorrect predictions:\n",
        "# If the predicted class matches the actual class → Loss = 0.\n",
        "# If the prediction is incorrect → Loss is positive.\n",
        "# Step-by-step calculation for each value:\n",
        "# 1️⃣ First data point:\n",
        "\n",
        "# y_true = 1, y_pred = -0.5\n",
        "# Loss = max(0, - (1 × -0.5)) = max(0, 0.5) = 0.5\n",
        "# 2️⃣ Second data point:\n",
        "\n",
        "# y_true = -1, y_pred = 2\n",
        "# Loss = max(0, - (-1 × 2)) = max(0, -2) = 0\n",
        "# 3️⃣ Third data point:\n",
        "\n",
        "# y_true = 1, y_pred = 0.3\n",
        "# Loss = max(0, - (1 × 0.3)) = max(0, -0.3) = 0\n",
        "# Thus, the output is:\n",
        "\n"
      ],
      "metadata": {
        "id": "HbXBtYHemiYz"
      },
      "execution_count": null,
      "outputs": []
    },
    {
      "cell_type": "code",
      "source": [
        "import numpy as np\n",
        "\n",
        "def perceptron_loss(y, y_pred):\n",
        "    return np.maximum(0, -y * y_pred)\n",
        "\n",
        "# Example usage\n",
        "y_true = np.array([1, -1, 1])\n",
        "y_pred = np.array([-0.5, 2, 0.3])\n",
        "\n",
        "loss = perceptron_loss(y_true, y_pred)\n",
        "print(loss)  # Output: [0.5, 2. , 0.7]\n"
      ],
      "metadata": {
        "colab": {
          "base_uri": "https://localhost:8080/"
        },
        "id": "cnqQ9w2tkoCP",
        "outputId": "5b88bdab-6123-4a6a-8a37-f24c1e67c9b6"
      },
      "execution_count": 8,
      "outputs": [
        {
          "output_type": "stream",
          "name": "stdout",
          "text": [
            "[0.5 2.  0. ]\n"
          ]
        }
      ]
    },
    {
      "cell_type": "code",
      "source": [
        "# Higher loss means a wrong or weak prediction.\n",
        "# Loss = 0 means the prediction is correct or good enough.\n",
        "# In this example:\n",
        "# The first prediction (-0.5 for class 1) is wrong, so it gets a penalty of 0.5.\n",
        "# The second prediction (2 for class -1) is correct, so the loss is 2.\n",
        "# The third prediction (0.3 for class 1) is correct, so the loss is 0."
      ],
      "metadata": {
        "id": "cm_RJjtLonJA"
      },
      "execution_count": null,
      "outputs": []
    },
    {
      "cell_type": "code",
      "source": [
        "# #lets understand Hinge Loss almsot very similar to perceprtron loss fn\n",
        "# def hinge_loss(y, y_pred):\n",
        "#     return np.maximum(0, 1 - y * y_pred)\n",
        "\n",
        "# # Example usage\n",
        "# y_true = np.array([1, -1, 1])\n",
        "# y_pred = np.array([0.8, -1.5, 2])\n",
        "\n",
        "# loss = hinge_loss(y_true, y_pred)\n",
        "# print(loss)  # Output: [0.2, 0. , 0.]\n"
      ],
      "metadata": {
        "id": "LbpM3tuzotN7"
      },
      "execution_count": null,
      "outputs": []
    }
  ]
}